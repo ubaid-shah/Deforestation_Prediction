{
 "cells": [
  {
   "cell_type": "code",
   "execution_count": null,
   "id": "4211c448",
   "metadata": {},
   "outputs": [],
   "source": [
    "import os"
   ]
  },
  {
   "cell_type": "code",
   "execution_count": null,
   "id": "9071b66d",
   "metadata": {},
   "outputs": [],
   "source": [
    "os.listdir('deforestation')"
   ]
  },
  {
   "cell_type": "code",
   "execution_count": null,
   "id": "005c1b5a",
   "metadata": {},
   "outputs": [],
   "source": [
    "os.listdir('deforestation')[1]"
   ]
  },
  {
   "cell_type": "code",
   "execution_count": null,
   "id": "5c0ff056",
   "metadata": {},
   "outputs": [],
   "source": [
    "folder=os.listdir('deforestation')[1]"
   ]
  },
  {
   "cell_type": "code",
   "execution_count": null,
   "id": "4590ae3e",
   "metadata": {},
   "outputs": [],
   "source": [
    "base_path='deforestation' "
   ]
  },
  {
   "cell_type": "code",
   "execution_count": null,
   "id": "144c74ba",
   "metadata": {},
   "outputs": [],
   "source": [
    "os.path.join(base_path, folder, folder + '.SAFE\\\\GRANULE')"
   ]
  },
  {
   "cell_type": "code",
   "execution_count": null,
   "id": "991a48d4",
   "metadata": {},
   "outputs": [],
   "source": [
    "full_path=os.path.join(base_path, folder, folder + '.SAFE\\\\GRANULE')"
   ]
  },
  {
   "cell_type": "code",
   "execution_count": null,
   "id": "5e1ca3a4",
   "metadata": {},
   "outputs": [],
   "source": [
    "full_path"
   ]
  },
  {
   "cell_type": "code",
   "execution_count": null,
   "id": "e59adcbe",
   "metadata": {},
   "outputs": [],
   "source": [
    "not os.path.isdir(folder)"
   ]
  },
  {
   "cell_type": "code",
   "execution_count": null,
   "id": "a4ffb96b",
   "metadata": {},
   "outputs": [],
   "source": [
    "os.listdir(full_path)"
   ]
  },
  {
   "cell_type": "code",
   "execution_count": null,
   "id": "b7dc2074",
   "metadata": {},
   "outputs": [],
   "source": [
    "granule= os.listdir(full_path)[0]"
   ]
  },
  {
   "cell_type": "code",
   "execution_count": null,
   "id": "1d143849",
   "metadata": {},
   "outputs": [],
   "source": [
    "os.path.join(full_path, granule, 'IMG_DATA')"
   ]
  },
  {
   "cell_type": "code",
   "execution_count": null,
   "id": "ba012cd2",
   "metadata": {},
   "outputs": [],
   "source": [
    "image_data=os.path.join(full_path, granule, 'IMG_DATA')"
   ]
  },
  {
   "cell_type": "code",
   "execution_count": null,
   "id": "507f2028",
   "metadata": {},
   "outputs": [],
   "source": [
    "os.listdir(image_data)"
   ]
  },
  {
   "cell_type": "code",
   "execution_count": null,
   "id": "f64d7e24",
   "metadata": {},
   "outputs": [],
   "source": [
    "for img in os.listdir(image_data):\n",
    "    if '.jp2' in img:\n",
    "        print(img)\n",
    "        break "
   ]
  },
  {
   "cell_type": "code",
   "execution_count": null,
   "id": "3f1585c1",
   "metadata": {},
   "outputs": [],
   "source": [
    "def get_band_paths(base_path, band='.jp2'):\n",
    "    \"\"\"\n",
    "    Locate paths to specific band (e.g., B04 = red) in all folders.\n",
    "    \"\"\"\n",
    "    band_paths = []\n",
    "    for folder in os.listdir(base_path):\n",
    "        full_path = os.path.join(base_path, folder, folder + '.SAFE\\\\GRANULE')\n",
    "        if not os.path.isdir(full_path):\n",
    "            continue\n",
    "        for granule in os.listdir(full_path):\n",
    "            img_data = os.path.join(full_path, granule, 'IMG_DATA')\n",
    "            for file in os.listdir(img_data):\n",
    "                if f'{band}' in file:\n",
    "                    band_paths.append(os.path.join(img_data, file))\n",
    "    return band_paths\n"
   ]
  },
  {
   "cell_type": "code",
   "execution_count": null,
   "id": "a620347e",
   "metadata": {},
   "outputs": [],
   "source": [
    "get_band_paths('deforestation')\n"
   ]
  },
  {
   "cell_type": "code",
   "execution_count": null,
   "id": "985f739e",
   "metadata": {},
   "outputs": [],
   "source": [
    "len(get_band_paths('deforestation'))"
   ]
  },
  {
   "cell_type": "code",
   "execution_count": null,
   "id": "90c4b149",
   "metadata": {},
   "outputs": [],
   "source": [
    "pip install rasterio"
   ]
  },
  {
   "cell_type": "code",
   "execution_count": null,
   "id": "924f4f44",
   "metadata": {},
   "outputs": [],
   "source": [
    "import rasterio\n",
    "import numpy as np\n",
    "import matplotlib.pyplot as plt\n",
    "\n",
    "# Paths to RGB bands\n",
    "red_path = r'deforestation\\S2A_MSIL1C_20160212T084052_N0201_R064_T36UYA_20160212T084510\\S2A_MSIL1C_20160212T084052_N0201_R064_T36UYA_20160212T084510.SAFE\\GRANULE\\L1C_T36UYA_A003350_20160212T084510\\IMG_DATA\\T36UYA_20160212T084052_TCI.jp2'\n",
    "green_path = r'deforestation\\S2A_MSIL1C_20160212T084052_N0201_R064_T36UYA_20160212T084510\\S2A_MSIL1C_20160212T084052_N0201_R064_T36UYA_20160212T084510.SAFE\\GRANULE\\L1C_T36UYA_A003350_20160212T084510\\IMG_DATA\\T36UYA_20160212T084052_B03.jp2'\n",
    "blue_path = r'deforestation\\S2A_MSIL1C_20160212T084052_N0201_R064_T36UYA_20160212T084510\\S2A_MSIL1C_20160212T084052_N0201_R064_T36UYA_20160212T084510.SAFE\\GRANULE\\L1C_T36UYA_A003350_20160212T084510\\IMG_DATA\\T36UYA_20160212T084052_B02.jp2'\n",
    "\n",
    "def read_band(path):\n",
    "    with rasterio.open(path) as src:\n",
    "        return src.read(1)\n",
    "\n",
    "# Read and stack bands\n",
    "r = read_band(red_path)\n",
    "g = read_band(green_path)\n",
    "b = read_band(blue_path)\n",
    "\n",
    "\n"
   ]
  },
  {
   "cell_type": "code",
   "execution_count": null,
   "id": "d1853163",
   "metadata": {},
   "outputs": [],
   "source": [
    "r.min()"
   ]
  },
  {
   "cell_type": "code",
   "execution_count": null,
   "id": "e97cb7a9",
   "metadata": {},
   "outputs": [],
   "source": [
    "r.max()"
   ]
  },
  {
   "cell_type": "code",
   "execution_count": null,
   "id": "12103fc4",
   "metadata": {},
   "outputs": [],
   "source": [
    "g.min(),g.max()"
   ]
  },
  {
   "cell_type": "code",
   "execution_count": null,
   "id": "f96cfbeb",
   "metadata": {},
   "outputs": [],
   "source": [
    "b.min(),b.max()"
   ]
  },
  {
   "cell_type": "code",
   "execution_count": null,
   "id": "7b53f95d",
   "metadata": {},
   "outputs": [],
   "source": [
    "# Stack bands (Height x Width x Channels)\n",
    "rgb = np.stack([r, g, b], axis=-1)\n",
    "\n",
    "# Normalize for display (optional)\n",
    "rgb_norm = (rgb - rgb.min()) / (rgb.max() - rgb.min())\n",
    "\n"
   ]
  },
  {
   "cell_type": "code",
   "execution_count": null,
   "id": "03ce9173",
   "metadata": {},
   "outputs": [],
   "source": [
    "rgb_norm.min(),rgb_norm.max()"
   ]
  },
  {
   "cell_type": "code",
   "execution_count": null,
   "id": "79129500",
   "metadata": {},
   "outputs": [],
   "source": [
    "np.round(rgb_norm*255).min(),np.round(rgb_norm*255).max()"
   ]
  },
  {
   "cell_type": "code",
   "execution_count": null,
   "id": "eb2e7927",
   "metadata": {},
   "outputs": [],
   "source": [
    "# Plot\n",
    "plt.figure(figsize=(10, 10))\n",
    "plt.imshow(np.round(rgb_norm*255).astype(int))\n",
    "plt.title(\"Sentinel-2 RGB Composite\")\n",
    "plt.axis('off')\n",
    "plt.show()"
   ]
  },
  {
   "cell_type": "code",
   "execution_count": null,
   "id": "4ec1611a",
   "metadata": {},
   "outputs": [],
   "source": [
    "# Plot\n",
    "plt.figure(figsize=(10, 10))\n",
    "plt.imshow(g)\n",
    "plt.title(\"Sentinel-2 RGB Composite\")\n",
    "plt.axis('off')\n",
    "plt.show()"
   ]
  },
  {
   "cell_type": "code",
   "execution_count": null,
   "id": "adbf383c",
   "metadata": {},
   "outputs": [],
   "source": [
    "# Plot\n",
    "plt.figure(figsize=(10, 10))\n",
    "plt.imshow(b)\n",
    "plt.title(\"Sentinel-2 RGB Composite\")\n",
    "plt.axis('off')\n",
    "plt.show()"
   ]
  },
  {
   "cell_type": "code",
   "execution_count": null,
   "id": "8e3cf2cd",
   "metadata": {},
   "outputs": [],
   "source": [
    "new_path=r'deforestation\\S2A_MSIL1C_20160330T082542_N0201_R021_T36UYA_20160330T082810\\S2A_MSIL1C_20160330T082542_N0201_R021_T36UYA_20160330T082810.SAFE\\GRANULE\\L1C_T36UYA_A004022_20160330T082810\\IMG_DATA\\T36UYA_20160330T082542_TCI.jp2'\n",
    "# Read and stack bands\n",
    "n = read_band(new_path)\n"
   ]
  },
  {
   "cell_type": "code",
   "execution_count": null,
   "id": "711bbb61",
   "metadata": {},
   "outputs": [],
   "source": [
    "# Plot\n",
    "plt.figure(figsize=(10, 10))\n",
    "plt.imshow(n)\n",
    "plt.title(\"Sentinel-2 RGB Composite\")\n",
    "plt.axis('off')\n",
    "plt.show()"
   ]
  },
  {
   "cell_type": "code",
   "execution_count": null,
   "id": "d04e6af6",
   "metadata": {},
   "outputs": [],
   "source": [
    "fourth_path=r'deforestation\\S2A_MSIL1C_20160405T085012_N0201_R107_T36UYA_20160405T085012\\S2A_MSIL1C_20160405T085012_N0201_R107_T36UYA_20160405T085012.SAFE\\GRANULE\\L1C_T36UYA_A004108_20160405T085012\\IMG_DATA\\T36UYA_20160405T085012_B05.jp2'\n",
    "fi=n = read_band(fourth_path)"
   ]
  },
  {
   "cell_type": "code",
   "execution_count": null,
   "id": "a8fe85cb",
   "metadata": {},
   "outputs": [],
   "source": [
    "# Plot\n",
    "plt.figure(figsize=(10, 10))\n",
    "plt.imshow(fi)\n",
    "plt.title(\"Sentinel-2 RGB Composite\")\n",
    "plt.axis('off')\n",
    "plt.show()"
   ]
  },
  {
   "cell_type": "code",
   "execution_count": null,
   "id": "b98a37fd",
   "metadata": {},
   "outputs": [],
   "source": [
    "import os\n",
    "import glob\n",
    "import rasterio\n",
    "import numpy as np\n",
    "import matplotlib.pyplot as plt\n",
    "\n",
    "def read_band(path):\n",
    "    \"\"\"Reads a single band from jp2 file.\"\"\"\n",
    "    with rasterio.open(path) as src:\n",
    "        return src.read(1)\n",
    "\n",
    "def normalize(img):\n",
    "    \"\"\"Normalizes image to 0-1 range for visualization.\"\"\"\n",
    "    img = img.astype(np.float32)\n",
    "    return ((img - img.min()) / (img.max() - img.min() + 1e-6))\n",
    "\n",
    "# Base directory with all scenes\n",
    "base_dir = 'deforestation'\n",
    "\n",
    "# Loop through each scene folder\n",
    "for scene_folder in os.listdir(base_dir)[1:]:\n",
    "    scene_path = os.path.join(base_dir, scene_folder)\n",
    "    \n",
    "    # Find .SAFE directory\n",
    "    safe_dirs = [d for d in os.listdir(scene_path) if d.endswith('.SAFE')]\n",
    "    if not safe_dirs:\n",
    "        print(f\"❌ No .SAFE folder in {scene_path}\")\n",
    "        continue\n",
    "    \n",
    "    safe_path = os.path.join(scene_path, safe_dirs[0], 'GRANULE')\n",
    "    \n",
    "    if not os.path.exists(safe_path):\n",
    "        print(f\"❌ GRANULE folder not found in {safe_path}\")\n",
    "        continue\n",
    "\n",
    "    # Get subfolder inside GRANULE\n",
    "    granule_dirs = os.listdir(safe_path)\n",
    "    if not granule_dirs:\n",
    "        print(f\"❌ No GRANULE subfolders in {safe_path}\")\n",
    "        continue\n",
    "\n",
    "    img_data_path = os.path.join(safe_path, granule_dirs[0], 'IMG_DATA')\n",
    "\n",
    "    try:\n",
    "        # Get band paths\n",
    "        b04 = glob.glob(os.path.join(img_data_path, '*_B04.jp2'))[0]\n",
    "        b03 = glob.glob(os.path.join(img_data_path, '*_B03.jp2'))[0]\n",
    "        b02 = glob.glob(os.path.join(img_data_path, '*_B02.jp2'))[0]\n",
    "\n",
    "        # Read and normalize bands\n",
    "        r = normalize(read_band(b04))\n",
    "        g = normalize(read_band(b03))\n",
    "        b = normalize(read_band(b02))\n",
    "\n",
    "        rgb = np.stack([r, g, b], axis=-1)\n",
    "\n",
    "        # Plot\n",
    "        plt.figure(figsize=(8, 8))\n",
    "        plt.imshow(rgb)\n",
    "        plt.title(f\"RGB Image - {scene_folder}\")\n",
    "        plt.axis('off')\n",
    "        plt.show()\n",
    "\n",
    "    except Exception as e:\n",
    "        print(f\"⚠️ Failed to process {scene_folder}: {e}\")\n"
   ]
  },
  {
   "cell_type": "code",
   "execution_count": null,
   "id": "d4be8793",
   "metadata": {},
   "outputs": [],
   "source": []
  }
 ],
 "metadata": {
  "kernelspec": {
   "display_name": "base",
   "language": "python",
   "name": "python3"
  },
  "language_info": {
   "codemirror_mode": {
    "name": "ipython",
    "version": 3
   },
   "file_extension": ".py",
   "mimetype": "text/x-python",
   "name": "python",
   "nbconvert_exporter": "python",
   "pygments_lexer": "ipython3",
   "version": "3.12.7"
  }
 },
 "nbformat": 4,
 "nbformat_minor": 5
}
